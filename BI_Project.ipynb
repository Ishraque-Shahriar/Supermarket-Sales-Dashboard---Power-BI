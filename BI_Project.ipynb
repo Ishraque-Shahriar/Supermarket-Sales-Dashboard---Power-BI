{
 "cells": [
  {
   "cell_type": "code",
   "execution_count": 5,
   "id": "c7e7ca1f-ba1b-4678-a73b-9edd4485121a",
   "metadata": {
    "tags": []
   },
   "outputs": [
    {
     "name": "stdout",
     "output_type": "stream",
     "text": [
      "    Invoice ID Branch       City Customer type  Gender  \\\n",
      "0  750-67-8428      A     Yangon        Member  Female   \n",
      "1  226-31-3081      C  Naypyitaw        Normal  Female   \n",
      "2  631-41-3108      A     Yangon        Normal    Male   \n",
      "3  123-19-1176      A     Yangon        Member    Male   \n",
      "4  373-73-7910      A     Yangon        Normal    Male   \n",
      "\n",
      "             Product line  Unit price  Quantity   Tax 5%     Total  ...  \\\n",
      "0       Health and beauty       74.69         7  26.1415  548.9715  ...   \n",
      "1  Electronic accessories       15.28         5   3.8200   80.2200  ...   \n",
      "2      Home and lifestyle       46.33         7  16.2155  340.5255  ...   \n",
      "3       Health and beauty       58.22         8  23.2880  489.0480  ...   \n",
      "4       Sports and travel       86.31         7  30.2085  634.3785  ...   \n",
      "\n",
      "       Time      Payment    cogs  gross margin percentage  gross income  \\\n",
      "0  13:08:00      Ewallet  522.83                 4.761905       26.1415   \n",
      "1  10:29:00         Cash   76.40                 4.761905        3.8200   \n",
      "2  13:23:00  Credit card  324.31                 4.761905       16.2155   \n",
      "3  20:33:00      Ewallet  465.76                 4.761905       23.2880   \n",
      "4  10:37:00      Ewallet  604.17                 4.761905       30.2085   \n",
      "\n",
      "   Rating  Month-Year Total Revenue  Profit Margin %  Hour  \n",
      "0     9.1     2019-01        522.83              5.0    13  \n",
      "1     9.6     2019-03         76.40              5.0    10  \n",
      "2     7.4     2019-03        324.31              5.0    13  \n",
      "3     8.4     2019-01        465.76              5.0    20  \n",
      "4     5.3     2019-02        604.17              5.0    10  \n",
      "\n",
      "[5 rows x 21 columns]\n"
     ]
    }
   ],
   "source": [
    "# Re-import necessary libraries\n",
    "import pandas as pd\n",
    "\n",
    "# Reload the dataset\n",
    "file_path = r\"C:\\Users\\ishra\\Downloads\\BI Project\\supermarket_sales - Sheet1.csv\"\n",
    "df = pd.read_csv(file_path)\n",
    "\n",
    "# Step 1: Data Cleaning\n",
    "# Convert 'Date' column to datetime format\n",
    "df['Date'] = pd.to_datetime(df['Date'])\n",
    "\n",
    "# Convert 'Time' column to datetime format (only time)\n",
    "df['Time'] = pd.to_datetime(df['Time'], format='%H:%M').dt.time\n",
    "\n",
    "# Create 'Month-Year' column for trend analysis\n",
    "df['Month-Year'] = df['Date'].dt.to_period('M')\n",
    "\n",
    "# Ensure no duplicates in categorical columns (Branch, City, Product Line)\n",
    "df['Branch'] = df['Branch'].str.strip()\n",
    "df['City'] = df['City'].str.strip()\n",
    "df['Product line'] = df['Product line'].str.strip()\n",
    "\n",
    "# Step 2: Data Transformation\n",
    "# Create Total Revenue column\n",
    "df['Total Revenue'] = df['Quantity'] * df['Unit price']\n",
    "\n",
    "# Calculate Profit Margin Percentage\n",
    "df['Profit Margin %'] = (df['gross income'] / df['Total Revenue']) * 100\n",
    "\n",
    "# Extract Hour from Time column\n",
    "df['Hour'] = pd.to_datetime(df['Time'], format='%H:%M:%S').dt.hour\n",
    "\n",
    "# Convert Payment Method to categorical format\n",
    "df['Payment'] = df['Payment'].astype('category')\n",
    "\n",
    "# Step 3: Data Structuring for Power BI\n",
    "# Create separate Date and Time columns for Power BI\n",
    "df['Date'] = df['Date'].dt.date  # Keeping only the date\n",
    "\n",
    "# Aggregated tables (e.g., Monthly Sales and Sales per Product Line)\n",
    "monthly_sales = df.groupby('Month-Year').agg({'Total Revenue': 'sum', 'Quantity': 'sum', 'gross income': 'sum'}).reset_index()\n",
    "product_line_sales = df.groupby('Product line').agg({'Total Revenue': 'sum', 'Quantity': 'sum', 'gross income': 'sum'}).reset_index()\n",
    "\n",
    "# Format numerical fields properly\n",
    "df['Total Revenue'] = df['Total Revenue'].round(2)\n",
    "df['Profit Margin %'] = df['Profit Margin %'].round(2)\n",
    "monthly_sales['Total Revenue'] = monthly_sales['Total Revenue'].round(2)\n",
    "monthly_sales['gross income'] = monthly_sales['gross income'].round(2)\n",
    "product_line_sales['Total Revenue'] = product_line_sales['Total Revenue'].round(2)\n",
    "product_line_sales['gross income'] = product_line_sales['gross income'].round(2)\n",
    "\n",
    "# Display cleaned and structured data\n",
    "print(df.head())  # Show the first few rows\n",
    "\n"
   ]
  },
  {
   "cell_type": "code",
   "execution_count": 6,
   "id": "ba388ae6-d8c8-4be6-bd14-8d08be80a21d",
   "metadata": {
    "tags": []
   },
   "outputs": [],
   "source": [
    "df.to_csv(\"cleaned_supermarket_sales.csv\", index=False)  # Save cleaned data\n"
   ]
  },
  {
   "cell_type": "code",
   "execution_count": null,
   "id": "06d35584-f366-4470-bda5-d0b64fb1cf22",
   "metadata": {},
   "outputs": [],
   "source": []
  }
 ],
 "metadata": {
  "kernelspec": {
   "display_name": "Python 3 (ipykernel)",
   "language": "python",
   "name": "python3"
  },
  "language_info": {
   "codemirror_mode": {
    "name": "ipython",
    "version": 3
   },
   "file_extension": ".py",
   "mimetype": "text/x-python",
   "name": "python",
   "nbconvert_exporter": "python",
   "pygments_lexer": "ipython3",
   "version": "3.11.4"
  }
 },
 "nbformat": 4,
 "nbformat_minor": 5
}
